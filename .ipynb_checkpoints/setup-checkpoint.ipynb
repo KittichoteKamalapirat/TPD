{
  "cells": [
    {
      "cell_type": "markdown",
      "metadata": {
        "id": "qUR-q3__FIX4"
      },
      "source": [
        "## Dowload pretrained checkpoint"
      ]
    },
    {
      "cell_type": "code",
      "execution_count": null,
      "metadata": {
        "colab": {
          "base_uri": "https://localhost:8080/"
        },
        "id": "ExdlsQaMFKik",
        "outputId": "d7038b99-21fc-440e-bd49-d018f80c2758"
      },
      "outputs": [
        {
          "name": "stdout",
          "output_type": "stream",
          "text": [
            "Checkpoint not found at checkpoints/release/TPD_240epochs.ckpt. Downloading now...\n",
            "Collecting gdown\n",
            "  Downloading gdown-5.2.0-py3-none-any.whl.metadata (5.8 kB)\n",
            "Collecting beautifulsoup4 (from gdown)\n",
            "  Downloading beautifulsoup4-4.12.3-py3-none-any.whl.metadata (3.8 kB)\n",
            "Collecting filelock (from gdown)\n",
            "  Downloading filelock-3.16.1-py3-none-any.whl.metadata (2.9 kB)\n",
            "Requirement already satisfied: requests[socks] in /usr/local/lib/python3.9/site-packages (from gdown) (2.32.3)\n",
            "Requirement already satisfied: tqdm in /usr/local/lib/python3.9/site-packages (from gdown) (4.66.5)\n",
            "Collecting soupsieve>1.2 (from beautifulsoup4->gdown)\n",
            "  Downloading soupsieve-2.6-py3-none-any.whl.metadata (4.6 kB)\n",
            "Requirement already satisfied: charset-normalizer<4,>=2 in /usr/local/lib/python3.9/site-packages (from requests[socks]->gdown) (3.3.2)\n",
            "Requirement already satisfied: idna<4,>=2.5 in /usr/local/lib/python3.9/site-packages (from requests[socks]->gdown) (3.7)\n",
            "Requirement already satisfied: urllib3<3,>=1.21.1 in /usr/local/lib/python3.9/site-packages (from requests[socks]->gdown) (2.2.3)\n",
            "Requirement already satisfied: certifi>=2017.4.17 in /usr/local/lib/python3.9/site-packages (from requests[socks]->gdown) (2024.12.14)\n",
            "Requirement already satisfied: PySocks!=1.5.7,>=1.5.6 in /usr/local/lib/python3.9/site-packages (from requests[socks]->gdown) (1.7.1)\n",
            "Downloading gdown-5.2.0-py3-none-any.whl (18 kB)\n",
            "Downloading beautifulsoup4-4.12.3-py3-none-any.whl (147 kB)\n",
            "Downloading filelock-3.16.1-py3-none-any.whl (16 kB)\n",
            "Downloading soupsieve-2.6-py3-none-any.whl (36 kB)\n",
            "Installing collected packages: soupsieve, filelock, beautifulsoup4, gdown\n",
            "Successfully installed beautifulsoup4-4.12.3 filelock-3.16.1 gdown-5.2.0 soupsieve-2.6\n",
            "/usr/local/lib/python3.9/site-packages/gdown/__main__.py:140: FutureWarning: Option `--id` was deprecated in version 4.3.1 and will be removed in 5.0. You don't need to pass it anymore to use a file ID.\n",
            "  warnings.warn(\n",
            "Downloading...\n",
            "From (original): https://drive.google.com/uc?id=1twsjZ0kQkyFdfLcw8EYmvQmsRIgqnI3o\n",
            "From (redirected): https://drive.google.com/uc?id=1twsjZ0kQkyFdfLcw8EYmvQmsRIgqnI3o&confirm=t&uuid=adafb032-c798-4dda-8bd6-b9d51ffba795\n",
            "To: /content/checkpoints/release/TPD_240epochs.ckpt\n",
            "100% 3.78G/3.78G [01:08<00:00, 54.8MB/s]\n",
            "Checkpoint successfully verified at checkpoints/release/TPD_240epochs.ckpt.\n"
          ]
        }
      ],
      "source": [
        "import os\n",
        "\n",
        "# Create the checkpoints directory if it doesn't exist\n",
        "os.makedirs(\"checkpoints/release\", exist_ok=True)\n",
        "\n",
        "# Path to the checkpoint file\n",
        "checkpoint_path = \"checkpoints/release/TPD_240epochs.ckpt\"\n",
        "\n",
        "# Check if the file exists\n",
        "if os.path.exists(checkpoint_path):\n",
        "    print(f\"Checkpoint already exists at {checkpoint_path}. Skipping download.\")\n",
        "else:\n",
        "    # Download the file using gdown (https://drive.google.com/file/d/1twsjZ0kQkyFdfLcw8EYmvQmsRIgqnI3o/view)\n",
        "    print(f\"Checkpoint not found at {checkpoint_path}. Downloading now...\")\n",
        "    !pip install gdown\n",
        "    !gdown --id 1twsjZ0kQkyFdfLcw8EYmvQmsRIgqnI3o -O {checkpoint_path}\n",
        "\n",
        "\n",
        "# Verify the file\n",
        "if os.path.exists(checkpoint_path):\n",
        "    print(f\"Checkpoint successfully verified at {checkpoint_path}.\")\n",
        "else:\n",
        "    print(f\"Failed to download checkpoint. Please check the URL or your internet connection.\")\n"
      ]
    },
    {
      "cell_type": "markdown",
      "metadata": {
        "id": "WINwxMgPFaED"
      },
      "source": [
        "## Add sys.path.append(\"/content\") to inference.py\n"
      ]
    },
    {
      "cell_type": "code",
      "execution_count": null,
      "metadata": {
        "colab": {
          "base_uri": "https://localhost:8080/"
        },
        "id": "5FvQ_lGxFaby",
        "outputId": "f25ca08f-5038-4854-e11b-b242d635fa60"
      },
      "outputs": [
        {
          "name": "stdout",
          "output_type": "stream",
          "text": [
            "Successfully added sys.path.append(\"/content\") at line 20 in /content/scripts/inference.py.\n"
          ]
        }
      ],
      "source": [
        "file_path = \"/home/sagemaker-user/TPD/scripts/inference.py\"\n",
        "\n",
        "# Read the file\n",
        "with open(file_path, \"r\") as file:\n",
        "    lines = file.readlines()\n",
        "\n",
        "# Insert the new line at line 20\n",
        "lines.insert(19, 'sys.path.append(\"/home/sagemaker-user/TPD\")\\n')\n",
        "\n",
        "# Write the updated content back to the file\n",
        "with open(file_path, \"w\") as file:\n",
        "    file.writelines(lines)\n",
        "\n",
        "print(f'Successfully added sys.path.append(\"/home/sagemaker-user/TPD\") at line 20 in {file_path}.')\n"
      ]
    }
  ],
  "metadata": {
    "accelerator": "GPU",
    "colab": {
      "gpuType": "T4",
      "machine_shape": "hm",
      "provenance": []
    },
    "kernelspec": {
      "display_name": "Python 3",
      "name": "python3"
    },
    "language_info": {
      "name": "python"
    }
  },
  "nbformat": 4,
  "nbformat_minor": 0
}
